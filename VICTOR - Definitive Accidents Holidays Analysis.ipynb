{
 "cells": [
  {
   "cell_type": "code",
   "execution_count": 2,
   "metadata": {},
   "outputs": [],
   "source": [
    "import pandas as pd\n",
    "import numpy as np\n",
    "import os\n",
    "import ratio_function as f"
   ]
  },
  {
   "cell_type": "code",
   "execution_count": 18,
   "metadata": {},
   "outputs": [
    {
     "data": {
      "text/html": [
       "<div>\n",
       "<style scoped>\n",
       "    .dataframe tbody tr th:only-of-type {\n",
       "        vertical-align: middle;\n",
       "    }\n",
       "\n",
       "    .dataframe tbody tr th {\n",
       "        vertical-align: top;\n",
       "    }\n",
       "\n",
       "    .dataframe thead th {\n",
       "        text-align: right;\n",
       "    }\n",
       "</style>\n",
       "<table border=\"1\" class=\"dataframe\">\n",
       "  <thead>\n",
       "    <tr style=\"text-align: right;\">\n",
       "      <th></th>\n",
       "      <th>District Name</th>\n",
       "      <th>Weekday</th>\n",
       "      <th>Month</th>\n",
       "      <th>Day</th>\n",
       "      <th>Part of the day</th>\n",
       "      <th>Mild injuries</th>\n",
       "      <th>Serious injuries</th>\n",
       "      <th>Victims</th>\n",
       "      <th>Vehicles involved</th>\n",
       "      <th>Date</th>\n",
       "    </tr>\n",
       "  </thead>\n",
       "  <tbody>\n",
       "    <tr>\n",
       "      <th>0</th>\n",
       "      <td>Ciutat Vella</td>\n",
       "      <td>Friday</td>\n",
       "      <td>June</td>\n",
       "      <td>23</td>\n",
       "      <td>Night</td>\n",
       "      <td>1</td>\n",
       "      <td>0</td>\n",
       "      <td>1</td>\n",
       "      <td>1</td>\n",
       "      <td>June 23</td>\n",
       "    </tr>\n",
       "    <tr>\n",
       "      <th>1</th>\n",
       "      <td>Eixample</td>\n",
       "      <td>Friday</td>\n",
       "      <td>June</td>\n",
       "      <td>23</td>\n",
       "      <td>Morning</td>\n",
       "      <td>1</td>\n",
       "      <td>0</td>\n",
       "      <td>1</td>\n",
       "      <td>2</td>\n",
       "      <td>June 23</td>\n",
       "    </tr>\n",
       "    <tr>\n",
       "      <th>2</th>\n",
       "      <td>Eixample</td>\n",
       "      <td>Friday</td>\n",
       "      <td>June</td>\n",
       "      <td>23</td>\n",
       "      <td>Morning</td>\n",
       "      <td>1</td>\n",
       "      <td>0</td>\n",
       "      <td>1</td>\n",
       "      <td>2</td>\n",
       "      <td>June 23</td>\n",
       "    </tr>\n",
       "    <tr>\n",
       "      <th>3</th>\n",
       "      <td>Eixample</td>\n",
       "      <td>Friday</td>\n",
       "      <td>June</td>\n",
       "      <td>23</td>\n",
       "      <td>Afternoon</td>\n",
       "      <td>1</td>\n",
       "      <td>0</td>\n",
       "      <td>1</td>\n",
       "      <td>2</td>\n",
       "      <td>June 23</td>\n",
       "    </tr>\n",
       "    <tr>\n",
       "      <th>4</th>\n",
       "      <td>Sants-Montjuïc</td>\n",
       "      <td>Friday</td>\n",
       "      <td>June</td>\n",
       "      <td>23</td>\n",
       "      <td>Afternoon</td>\n",
       "      <td>2</td>\n",
       "      <td>0</td>\n",
       "      <td>2</td>\n",
       "      <td>1</td>\n",
       "      <td>June 23</td>\n",
       "    </tr>\n",
       "    <tr>\n",
       "      <th>...</th>\n",
       "      <td>...</td>\n",
       "      <td>...</td>\n",
       "      <td>...</td>\n",
       "      <td>...</td>\n",
       "      <td>...</td>\n",
       "      <td>...</td>\n",
       "      <td>...</td>\n",
       "      <td>...</td>\n",
       "      <td>...</td>\n",
       "      <td>...</td>\n",
       "    </tr>\n",
       "    <tr>\n",
       "      <th>683</th>\n",
       "      <td>Eixample</td>\n",
       "      <td>Tuesday</td>\n",
       "      <td>February</td>\n",
       "      <td>14</td>\n",
       "      <td>Morning</td>\n",
       "      <td>1</td>\n",
       "      <td>0</td>\n",
       "      <td>1</td>\n",
       "      <td>2</td>\n",
       "      <td>February 14</td>\n",
       "    </tr>\n",
       "    <tr>\n",
       "      <th>684</th>\n",
       "      <td>Les Corts</td>\n",
       "      <td>Tuesday</td>\n",
       "      <td>February</td>\n",
       "      <td>14</td>\n",
       "      <td>Morning</td>\n",
       "      <td>1</td>\n",
       "      <td>0</td>\n",
       "      <td>1</td>\n",
       "      <td>2</td>\n",
       "      <td>February 14</td>\n",
       "    </tr>\n",
       "    <tr>\n",
       "      <th>685</th>\n",
       "      <td>Sarrià-Sant Gervasi</td>\n",
       "      <td>Tuesday</td>\n",
       "      <td>February</td>\n",
       "      <td>14</td>\n",
       "      <td>Afternoon</td>\n",
       "      <td>1</td>\n",
       "      <td>0</td>\n",
       "      <td>1</td>\n",
       "      <td>2</td>\n",
       "      <td>February 14</td>\n",
       "    </tr>\n",
       "    <tr>\n",
       "      <th>686</th>\n",
       "      <td>Horta-Guinardó</td>\n",
       "      <td>Tuesday</td>\n",
       "      <td>February</td>\n",
       "      <td>14</td>\n",
       "      <td>Afternoon</td>\n",
       "      <td>0</td>\n",
       "      <td>0</td>\n",
       "      <td>0</td>\n",
       "      <td>1</td>\n",
       "      <td>February 14</td>\n",
       "    </tr>\n",
       "    <tr>\n",
       "      <th>687</th>\n",
       "      <td>Horta-Guinardó</td>\n",
       "      <td>Tuesday</td>\n",
       "      <td>February</td>\n",
       "      <td>14</td>\n",
       "      <td>Morning</td>\n",
       "      <td>2</td>\n",
       "      <td>0</td>\n",
       "      <td>2</td>\n",
       "      <td>2</td>\n",
       "      <td>February 14</td>\n",
       "    </tr>\n",
       "  </tbody>\n",
       "</table>\n",
       "<p>688 rows × 10 columns</p>\n",
       "</div>"
      ],
      "text/plain": [
       "           District Name  Weekday     Month  Day Part of the day  \\\n",
       "0           Ciutat Vella   Friday      June   23           Night   \n",
       "1               Eixample   Friday      June   23         Morning   \n",
       "2               Eixample   Friday      June   23         Morning   \n",
       "3               Eixample   Friday      June   23       Afternoon   \n",
       "4         Sants-Montjuïc   Friday      June   23       Afternoon   \n",
       "..                   ...      ...       ...  ...             ...   \n",
       "683             Eixample  Tuesday  February   14         Morning   \n",
       "684            Les Corts  Tuesday  February   14         Morning   \n",
       "685  Sarrià-Sant Gervasi  Tuesday  February   14       Afternoon   \n",
       "686       Horta-Guinardó  Tuesday  February   14       Afternoon   \n",
       "687       Horta-Guinardó  Tuesday  February   14         Morning   \n",
       "\n",
       "     Mild injuries  Serious injuries  Victims  Vehicles involved         Date  \n",
       "0                1                 0        1                  1      June 23  \n",
       "1                1                 0        1                  2      June 23  \n",
       "2                1                 0        1                  2      June 23  \n",
       "3                1                 0        1                  2      June 23  \n",
       "4                2                 0        2                  1      June 23  \n",
       "..             ...               ...      ...                ...          ...  \n",
       "683              1                 0        1                  2  February 14  \n",
       "684              1                 0        1                  2  February 14  \n",
       "685              1                 0        1                  2  February 14  \n",
       "686              0                 0        0                  1  February 14  \n",
       "687              2                 0        2                  2  February 14  \n",
       "\n",
       "[688 rows x 10 columns]"
      ]
     },
     "execution_count": 18,
     "metadata": {},
     "output_type": "execute_result"
    }
   ],
   "source": [
    "csv_holidays = f.holidays\n",
    "csv_holidays"
   ]
  },
  {
   "cell_type": "code",
   "execution_count": 20,
   "metadata": {},
   "outputs": [
    {
     "data": {
      "text/html": [
       "<div>\n",
       "<style scoped>\n",
       "    .dataframe tbody tr th:only-of-type {\n",
       "        vertical-align: middle;\n",
       "    }\n",
       "\n",
       "    .dataframe tbody tr th {\n",
       "        vertical-align: top;\n",
       "    }\n",
       "\n",
       "    .dataframe thead th {\n",
       "        text-align: right;\n",
       "    }\n",
       "</style>\n",
       "<table border=\"1\" class=\"dataframe\">\n",
       "  <thead>\n",
       "    <tr style=\"text-align: right;\">\n",
       "      <th></th>\n",
       "      <th>District Name</th>\n",
       "      <th>Weekday</th>\n",
       "      <th>Month</th>\n",
       "      <th>Day</th>\n",
       "      <th>Part of the day</th>\n",
       "      <th>Mild injuries</th>\n",
       "      <th>Serious injuries</th>\n",
       "      <th>Victims</th>\n",
       "      <th>Vehicles involved</th>\n",
       "      <th>Date</th>\n",
       "    </tr>\n",
       "  </thead>\n",
       "  <tbody>\n",
       "    <tr>\n",
       "      <th>0</th>\n",
       "      <td>Unknown</td>\n",
       "      <td>Friday</td>\n",
       "      <td>October</td>\n",
       "      <td>13</td>\n",
       "      <td>Morning</td>\n",
       "      <td>2</td>\n",
       "      <td>0</td>\n",
       "      <td>2</td>\n",
       "      <td>2</td>\n",
       "      <td>October 13</td>\n",
       "    </tr>\n",
       "    <tr>\n",
       "      <th>1</th>\n",
       "      <td>Unknown</td>\n",
       "      <td>Friday</td>\n",
       "      <td>September</td>\n",
       "      <td>1</td>\n",
       "      <td>Morning</td>\n",
       "      <td>2</td>\n",
       "      <td>0</td>\n",
       "      <td>2</td>\n",
       "      <td>2</td>\n",
       "      <td>September 1</td>\n",
       "    </tr>\n",
       "    <tr>\n",
       "      <th>2</th>\n",
       "      <td>Unknown</td>\n",
       "      <td>Friday</td>\n",
       "      <td>July</td>\n",
       "      <td>21</td>\n",
       "      <td>Night</td>\n",
       "      <td>1</td>\n",
       "      <td>0</td>\n",
       "      <td>1</td>\n",
       "      <td>2</td>\n",
       "      <td>July 21</td>\n",
       "    </tr>\n",
       "    <tr>\n",
       "      <th>3</th>\n",
       "      <td>Sant Martí</td>\n",
       "      <td>Thursday</td>\n",
       "      <td>May</td>\n",
       "      <td>25</td>\n",
       "      <td>Afternoon</td>\n",
       "      <td>1</td>\n",
       "      <td>0</td>\n",
       "      <td>1</td>\n",
       "      <td>3</td>\n",
       "      <td>May 25</td>\n",
       "    </tr>\n",
       "    <tr>\n",
       "      <th>4</th>\n",
       "      <td>Sant Martí</td>\n",
       "      <td>Wednesday</td>\n",
       "      <td>September</td>\n",
       "      <td>20</td>\n",
       "      <td>Morning</td>\n",
       "      <td>1</td>\n",
       "      <td>0</td>\n",
       "      <td>1</td>\n",
       "      <td>2</td>\n",
       "      <td>September 20</td>\n",
       "    </tr>\n",
       "    <tr>\n",
       "      <th>...</th>\n",
       "      <td>...</td>\n",
       "      <td>...</td>\n",
       "      <td>...</td>\n",
       "      <td>...</td>\n",
       "      <td>...</td>\n",
       "      <td>...</td>\n",
       "      <td>...</td>\n",
       "      <td>...</td>\n",
       "      <td>...</td>\n",
       "      <td>...</td>\n",
       "    </tr>\n",
       "    <tr>\n",
       "      <th>9646</th>\n",
       "      <td>Sant Andreu</td>\n",
       "      <td>Tuesday</td>\n",
       "      <td>April</td>\n",
       "      <td>25</td>\n",
       "      <td>Morning</td>\n",
       "      <td>1</td>\n",
       "      <td>0</td>\n",
       "      <td>1</td>\n",
       "      <td>3</td>\n",
       "      <td>April 25</td>\n",
       "    </tr>\n",
       "    <tr>\n",
       "      <th>9647</th>\n",
       "      <td>Sant Andreu</td>\n",
       "      <td>Wednesday</td>\n",
       "      <td>March</td>\n",
       "      <td>8</td>\n",
       "      <td>Morning</td>\n",
       "      <td>1</td>\n",
       "      <td>0</td>\n",
       "      <td>1</td>\n",
       "      <td>2</td>\n",
       "      <td>March 8</td>\n",
       "    </tr>\n",
       "    <tr>\n",
       "      <th>9648</th>\n",
       "      <td>Sant Andreu</td>\n",
       "      <td>Thursday</td>\n",
       "      <td>December</td>\n",
       "      <td>28</td>\n",
       "      <td>Morning</td>\n",
       "      <td>1</td>\n",
       "      <td>0</td>\n",
       "      <td>1</td>\n",
       "      <td>2</td>\n",
       "      <td>December 28</td>\n",
       "    </tr>\n",
       "    <tr>\n",
       "      <th>9649</th>\n",
       "      <td>Sant Andreu</td>\n",
       "      <td>Friday</td>\n",
       "      <td>July</td>\n",
       "      <td>14</td>\n",
       "      <td>Afternoon</td>\n",
       "      <td>1</td>\n",
       "      <td>0</td>\n",
       "      <td>1</td>\n",
       "      <td>2</td>\n",
       "      <td>July 14</td>\n",
       "    </tr>\n",
       "    <tr>\n",
       "      <th>9650</th>\n",
       "      <td>Sant Andreu</td>\n",
       "      <td>Sunday</td>\n",
       "      <td>January</td>\n",
       "      <td>8</td>\n",
       "      <td>Afternoon</td>\n",
       "      <td>0</td>\n",
       "      <td>0</td>\n",
       "      <td>0</td>\n",
       "      <td>1</td>\n",
       "      <td>January 8</td>\n",
       "    </tr>\n",
       "  </tbody>\n",
       "</table>\n",
       "<p>9651 rows × 10 columns</p>\n",
       "</div>"
      ],
      "text/plain": [
       "     District Name    Weekday      Month  Day Part of the day  Mild injuries  \\\n",
       "0          Unknown     Friday    October   13         Morning              2   \n",
       "1          Unknown     Friday  September    1         Morning              2   \n",
       "2          Unknown     Friday       July   21           Night              1   \n",
       "3       Sant Martí   Thursday        May   25       Afternoon              1   \n",
       "4       Sant Martí  Wednesday  September   20         Morning              1   \n",
       "...            ...        ...        ...  ...             ...            ...   \n",
       "9646   Sant Andreu    Tuesday      April   25         Morning              1   \n",
       "9647   Sant Andreu  Wednesday      March    8         Morning              1   \n",
       "9648   Sant Andreu   Thursday   December   28         Morning              1   \n",
       "9649   Sant Andreu     Friday       July   14       Afternoon              1   \n",
       "9650   Sant Andreu     Sunday    January    8       Afternoon              0   \n",
       "\n",
       "      Serious injuries  Victims  Vehicles involved          Date  \n",
       "0                    0        2                  2    October 13  \n",
       "1                    0        2                  2   September 1  \n",
       "2                    0        1                  2       July 21  \n",
       "3                    0        1                  3        May 25  \n",
       "4                    0        1                  2  September 20  \n",
       "...                ...      ...                ...           ...  \n",
       "9646                 0        1                  3      April 25  \n",
       "9647                 0        1                  2       March 8  \n",
       "9648                 0        1                  2   December 28  \n",
       "9649                 0        1                  2       July 14  \n",
       "9650                 0        0                  1     January 8  \n",
       "\n",
       "[9651 rows x 10 columns]"
      ]
     },
     "execution_count": 20,
     "metadata": {},
     "output_type": "execute_result"
    }
   ],
   "source": [
    "csv_non_holidays = f.non_holidays\n",
    "csv_non_holidays"
   ]
  },
  {
   "cell_type": "code",
   "execution_count": 16,
   "metadata": {},
   "outputs": [
    {
     "data": {
      "text/plain": [
       "18.594594594594593"
      ]
     },
     "execution_count": 16,
     "metadata": {},
     "output_type": "execute_result"
    }
   ],
   "source": [
    "#Ratio of accidents per day on holidays\n",
    "f.hol_ratio(csv_holidays.shape[0])"
   ]
  },
  {
   "cell_type": "code",
   "execution_count": 22,
   "metadata": {},
   "outputs": [
    {
     "data": {
      "text/plain": [
       "29.423780487804876"
      ]
     },
     "execution_count": 22,
     "metadata": {},
     "output_type": "execute_result"
    }
   ],
   "source": [
    "#Ratio of accidents per day on normal days\n",
    "f.no_hol_ratio(csv_non_holidays.shape[0])"
   ]
  },
  {
   "cell_type": "code",
   "execution_count": 23,
   "metadata": {},
   "outputs": [
    {
     "data": {
      "text/plain": [
       "0.5405405405405406"
      ]
     },
     "execution_count": 23,
     "metadata": {},
     "output_type": "execute_result"
    }
   ],
   "source": [
    "#Serious injuries per day ratio on holidays\n",
    "f.hol_ratio(csv_holidays[\"Serious injuries\"].sum())"
   ]
  },
  {
   "cell_type": "code",
   "execution_count": 24,
   "metadata": {
    "scrolled": true
   },
   "outputs": [
    {
     "data": {
      "text/plain": [
       "0.6737804878048781"
      ]
     },
     "execution_count": 24,
     "metadata": {},
     "output_type": "execute_result"
    }
   ],
   "source": [
    "#Serious injuries per day ratio on normal days\n",
    "f.no_hol_ratio(csv_non_holidays[\"Serious injuries\"].sum())"
   ]
  },
  {
   "cell_type": "code",
   "execution_count": 25,
   "metadata": {},
   "outputs": [
    {
     "data": {
      "text/plain": [
       "21.216216216216218"
      ]
     },
     "execution_count": 25,
     "metadata": {},
     "output_type": "execute_result"
    }
   ],
   "source": [
    "#Mild injuries per day ratio on holidays\n",
    "f.hol_ratio(csv_holidays[\"Mild injuries\"].sum())"
   ]
  },
  {
   "cell_type": "code",
   "execution_count": 26,
   "metadata": {},
   "outputs": [
    {
     "data": {
      "text/plain": [
       "33.98780487804878"
      ]
     },
     "execution_count": 26,
     "metadata": {},
     "output_type": "execute_result"
    }
   ],
   "source": [
    "#Mild injuries per day ratio on normal days\n",
    "f.no_hol_ratio(csv_non_holidays[\"Mild injuries\"].sum())"
   ]
  },
  {
   "cell_type": "code",
   "execution_count": 59,
   "metadata": {},
   "outputs": [
    {
     "data": {
      "text/plain": [
       "21.756756756756758"
      ]
     },
     "execution_count": 59,
     "metadata": {},
     "output_type": "execute_result"
    }
   ],
   "source": [
    "#Victims per day ratio on holidays\n",
    "f.hol_ratio(csv_holidays[\"Serious injuries\"].sum()) + f.hol_ratio(csv_holidays[\"Mild injuries\"].sum())"
   ]
  },
  {
   "cell_type": "code",
   "execution_count": 60,
   "metadata": {},
   "outputs": [
    {
     "data": {
      "text/plain": [
       "34.661585365853654"
      ]
     },
     "execution_count": 60,
     "metadata": {},
     "output_type": "execute_result"
    }
   ],
   "source": [
    "#Victims per day ratio on normal days\n",
    "f.no_hol_ratio(csv_non_holidays[\"Serious injuries\"].sum()) + f.no_hol_ratio(csv_non_holidays[\"Mild injuries\"].sum())"
   ]
  },
  {
   "cell_type": "code",
   "execution_count": 44,
   "metadata": {},
   "outputs": [
    {
     "name": "stdout",
     "output_type": "stream",
     "text": [
      "6.216216216216216\n",
      "11.698170731707316\n"
     ]
    },
    {
     "data": {
      "text/plain": [
       "-5.4819545154911005"
      ]
     },
     "execution_count": 44,
     "metadata": {},
     "output_type": "execute_result"
    }
   ],
   "source": [
    "#Morning accidents. 1st row: Holidays | 2nd row: Normal days | 3rd row: Difference between holidays - normal days\n",
    "mor_hol = f.hol_ratio(len(csv_holidays[csv_holidays[\"Part of the day\"] == \"Morning\"]))\n",
    "print(mor_hol)\n",
    "mor_no_hol = f.no_hol_ratio(len(csv_non_holidays[csv_non_holidays[\"Part of the day\"] == \"Morning\"]))\n",
    "print(mor_no_hol)\n",
    "diff = mor_hol - mor_no_hol\n",
    "diff"
   ]
  },
  {
   "cell_type": "code",
   "execution_count": 45,
   "metadata": {},
   "outputs": [
    {
     "name": "stdout",
     "output_type": "stream",
     "text": [
      "9.054054054054054\n",
      "14.472560975609756\n"
     ]
    },
    {
     "data": {
      "text/plain": [
       "-5.418506921555702"
      ]
     },
     "execution_count": 45,
     "metadata": {},
     "output_type": "execute_result"
    }
   ],
   "source": [
    "#Afternoon accidents. 1st row: Holidays | 2nd row: Normal days | 3rd row: Difference between holidays - normal days\n",
    "aft_hol = f.hol_ratio(len(csv_holidays[csv_holidays[\"Part of the day\"] == \"Afternoon\"]))\n",
    "print(aft_hol)\n",
    "aft_no_hol = f.no_hol_ratio(len(csv_non_holidays[csv_non_holidays[\"Part of the day\"] == \"Afternoon\"]))\n",
    "print(aft_no_hol)\n",
    "diff = aft_hol - aft_no_hol\n",
    "diff"
   ]
  },
  {
   "cell_type": "code",
   "execution_count": 46,
   "metadata": {},
   "outputs": [
    {
     "name": "stdout",
     "output_type": "stream",
     "text": [
      "3.324324324324324\n",
      "3.2530487804878048\n"
     ]
    },
    {
     "data": {
      "text/plain": [
       "0.07127554383651935"
      ]
     },
     "execution_count": 46,
     "metadata": {},
     "output_type": "execute_result"
    }
   ],
   "source": [
    "#Night accidents. 1st row: Holidays | 2nd row: Normal days | 3rd row: Difference between holidays - normal days\n",
    "nig_hol = f.hol_ratio(len(csv_holidays[csv_holidays[\"Part of the day\"] == \"Night\"]))\n",
    "print(nig_hol)\n",
    "nig_no_hol = f.no_hol_ratio(len(csv_non_holidays[csv_non_holidays[\"Part of the day\"] == \"Night\"]))\n",
    "print(nig_no_hol)\n",
    "diff = nig_hol - nig_no_hol\n",
    "diff"
   ]
  },
  {
   "cell_type": "code",
   "execution_count": 56,
   "metadata": {
    "scrolled": true
   },
   "outputs": [
    {
     "data": {
      "text/plain": [
       "Eixample              -3.189519\n",
       "Sants-Montjuïc        -1.591381\n",
       "Sarrià-Sant Gervasi   -1.591381\n",
       "Sant Martí            -1.185893\n",
       "Horta-Guinardó        -0.791529\n",
       "Les Corts             -0.739700\n",
       "Gràcia                -0.686552\n",
       "Sant Andreu           -0.436635\n",
       "Ciutat Vella          -0.385630\n",
       "Nou Barris            -0.268952\n",
       "Unknown                0.037986\n",
       "Name: District Name, dtype: float64"
      ]
     },
     "execution_count": 56,
     "metadata": {},
     "output_type": "execute_result"
    }
   ],
   "source": [
    "#SEPARATE \n",
    "#Ratio of Accidents per District (Holiday - Normal Day)\n",
    "(f.hol_ratio(csv_holidays[\"District Name\"].value_counts()) - f.no_hol_ratio(csv_non_holidays[\"District Name\"].value_counts())).sort_values(ascending=True)"
   ]
  },
  {
   "cell_type": "code",
   "execution_count": 96,
   "metadata": {
    "scrolled": true
   },
   "outputs": [
    {
     "data": {
      "text/plain": [
       "Tuesday      77\n",
       "Monday       77\n",
       "Thursday     31\n",
       "Wednesday    23\n",
       "Name: Weekday, dtype: int64"
      ]
     },
     "execution_count": 96,
     "metadata": {},
     "output_type": "execute_result"
    }
   ],
   "source": [
    "#Accidents per day on holidays (Just weekdays)\n",
    "csv_holidays[(csv_holidays['Weekday'] == \"Monday\")|(csv_holidays['Weekday'] == \"Tuesday\")|(csv_holidays['Weekday'] == \"Wednesday\")|(csv_holidays['Weekday'] == \"Thursday\")][\"Weekday\"].value_counts()"
   ]
  },
  {
   "cell_type": "code",
   "execution_count": 97,
   "metadata": {},
   "outputs": [
    {
     "data": {
      "text/plain": [
       "Tuesday      2.081081\n",
       "Monday       2.081081\n",
       "Thursday     0.837838\n",
       "Wednesday    0.621622\n",
       "Name: Weekday, dtype: float64"
      ]
     },
     "execution_count": 97,
     "metadata": {},
     "output_type": "execute_result"
    }
   ],
   "source": [
    "#Ratio of accidents per day on holidays (Just weekdays)\n",
    "f.hol_ratio(csv_holidays[(csv_holidays['Weekday'] == \"Monday\")|(csv_holidays['Weekday'] == \"Tuesday\")|(csv_holidays['Weekday'] == \"Wednesday\")|(csv_holidays['Weekday'] == \"Thursday\")][\"Weekday\"].value_counts())"
   ]
  },
  {
   "cell_type": "code",
   "execution_count": 94,
   "metadata": {},
   "outputs": [
    {
     "data": {
      "text/plain": [
       "Friday      202\n",
       "Sunday      149\n",
       "Saturday    129\n",
       "Name: Weekday, dtype: int64"
      ]
     },
     "execution_count": 94,
     "metadata": {},
     "output_type": "execute_result"
    }
   ],
   "source": [
    "#Accidents per day on holiday (Just weekend)\n",
    "csv_holidays[(csv_holidays['Weekday'] == \"Friday\")|(csv_holidays['Weekday'] == \"Saturday\")|(csv_holidays['Weekday'] == \"Sunday\")][\"Weekday\"].value_counts()"
   ]
  },
  {
   "cell_type": "code",
   "execution_count": 98,
   "metadata": {},
   "outputs": [
    {
     "data": {
      "text/plain": [
       "Friday      5.459459\n",
       "Sunday      4.027027\n",
       "Saturday    3.486486\n",
       "Name: Weekday, dtype: float64"
      ]
     },
     "execution_count": 98,
     "metadata": {},
     "output_type": "execute_result"
    }
   ],
   "source": [
    "#Ratio of accidents per day on holidays (Just weekend)\n",
    "f.hol_ratio(csv_holidays[(csv_holidays['Weekday'] == \"Friday\")|(csv_holidays['Weekday'] == \"Saturday\")|(csv_holidays['Weekday'] == \"Sunday\")][\"Weekday\"].value_counts())"
   ]
  },
  {
   "cell_type": "code",
   "execution_count": 92,
   "metadata": {
    "scrolled": false
   },
   "outputs": [
    {
     "data": {
      "text/plain": [
       "Thursday     1646\n",
       "Wednesday    1627\n",
       "Tuesday      1614\n",
       "Monday       1433\n",
       "Name: Weekday, dtype: int64"
      ]
     },
     "execution_count": 92,
     "metadata": {},
     "output_type": "execute_result"
    }
   ],
   "source": [
    "#Accidents per day on normal day (Just weekdays)\n",
    "csv_non_holidays[(csv_non_holidays['Weekday'] == \"Monday\")|(csv_non_holidays['Weekday'] == \"Tuesday\")|(csv_non_holidays['Weekday'] == \"Wednesday\")|(csv_non_holidays['Weekday'] == \"Thursday\")][\"Weekday\"].value_counts()"
   ]
  },
  {
   "cell_type": "code",
   "execution_count": 99,
   "metadata": {},
   "outputs": [
    {
     "data": {
      "text/plain": [
       "Thursday     5.018293\n",
       "Wednesday    4.960366\n",
       "Tuesday      4.920732\n",
       "Monday       4.368902\n",
       "Name: Weekday, dtype: float64"
      ]
     },
     "execution_count": 99,
     "metadata": {},
     "output_type": "execute_result"
    }
   ],
   "source": [
    "#Ratio of accidents per day on normal days (Just weekdays)\n",
    "f.no_hol_ratio(csv_non_holidays[(csv_non_holidays['Weekday'] == \"Monday\")|(csv_non_holidays['Weekday'] == \"Tuesday\")|(csv_non_holidays['Weekday'] == \"Wednesday\")|(csv_non_holidays['Weekday'] == \"Thursday\")][\"Weekday\"].value_counts())"
   ]
  },
  {
   "cell_type": "code",
   "execution_count": 95,
   "metadata": {},
   "outputs": [
    {
     "data": {
      "text/plain": [
       "Friday      1559\n",
       "Saturday    1026\n",
       "Sunday       746\n",
       "Name: Weekday, dtype: int64"
      ]
     },
     "execution_count": 95,
     "metadata": {},
     "output_type": "execute_result"
    }
   ],
   "source": [
    "#Accidents per day on normal day (Just weekend)\n",
    "csv_non_holidays[(csv_non_holidays['Weekday'] == \"Friday\")|(csv_non_holidays['Weekday'] == \"Saturday\")|(csv_non_holidays['Weekday'] == \"Sunday\")][\"Weekday\"].value_counts()"
   ]
  },
  {
   "cell_type": "code",
   "execution_count": null,
   "metadata": {},
   "outputs": [],
   "source": [
    "#Ratio of accidents per day on normal days (Just weekend)"
   ]
  },
  {
   "cell_type": "code",
   "execution_count": 100,
   "metadata": {},
   "outputs": [
    {
     "data": {
      "text/plain": [
       "Friday      4.753049\n",
       "Saturday    3.128049\n",
       "Sunday      2.274390\n",
       "Name: Weekday, dtype: float64"
      ]
     },
     "execution_count": 100,
     "metadata": {},
     "output_type": "execute_result"
    }
   ],
   "source": [
    "f.no_hol_ratio(csv_non_holidays[(csv_non_holidays['Weekday'] == \"Friday\")|(csv_non_holidays['Weekday'] == \"Saturday\")|(csv_non_holidays['Weekday'] == \"Sunday\")][\"Weekday\"].value_counts())"
   ]
  },
  {
   "cell_type": "code",
   "execution_count": 5,
   "metadata": {
    "scrolled": false
   },
   "outputs": [
    {
     "data": {
      "text/html": [
       "<div>\n",
       "<style scoped>\n",
       "    .dataframe tbody tr th:only-of-type {\n",
       "        vertical-align: middle;\n",
       "    }\n",
       "\n",
       "    .dataframe tbody tr th {\n",
       "        vertical-align: top;\n",
       "    }\n",
       "\n",
       "    .dataframe thead th {\n",
       "        text-align: right;\n",
       "    }\n",
       "</style>\n",
       "<table border=\"1\" class=\"dataframe\">\n",
       "  <thead>\n",
       "    <tr style=\"text-align: right;\">\n",
       "      <th></th>\n",
       "      <th>Day</th>\n",
       "      <th>Mild injuries</th>\n",
       "      <th>Serious injuries</th>\n",
       "      <th>Victims</th>\n",
       "      <th>Vehicles involved</th>\n",
       "    </tr>\n",
       "  </thead>\n",
       "  <tbody>\n",
       "    <tr>\n",
       "      <th>count</th>\n",
       "      <td>688.000000</td>\n",
       "      <td>688.000000</td>\n",
       "      <td>688.000000</td>\n",
       "      <td>688.000000</td>\n",
       "      <td>688.000000</td>\n",
       "    </tr>\n",
       "    <tr>\n",
       "      <th>mean</th>\n",
       "      <td>15.052326</td>\n",
       "      <td>1.140988</td>\n",
       "      <td>0.029070</td>\n",
       "      <td>1.170058</td>\n",
       "      <td>1.965116</td>\n",
       "    </tr>\n",
       "    <tr>\n",
       "      <th>std</th>\n",
       "      <td>9.383013</td>\n",
       "      <td>0.828288</td>\n",
       "      <td>0.227058</td>\n",
       "      <td>0.850638</td>\n",
       "      <td>0.890809</td>\n",
       "    </tr>\n",
       "    <tr>\n",
       "      <th>min</th>\n",
       "      <td>1.000000</td>\n",
       "      <td>0.000000</td>\n",
       "      <td>0.000000</td>\n",
       "      <td>0.000000</td>\n",
       "      <td>1.000000</td>\n",
       "    </tr>\n",
       "    <tr>\n",
       "      <th>25%</th>\n",
       "      <td>7.000000</td>\n",
       "      <td>1.000000</td>\n",
       "      <td>0.000000</td>\n",
       "      <td>1.000000</td>\n",
       "      <td>2.000000</td>\n",
       "    </tr>\n",
       "    <tr>\n",
       "      <th>50%</th>\n",
       "      <td>14.000000</td>\n",
       "      <td>1.000000</td>\n",
       "      <td>0.000000</td>\n",
       "      <td>1.000000</td>\n",
       "      <td>2.000000</td>\n",
       "    </tr>\n",
       "    <tr>\n",
       "      <th>75%</th>\n",
       "      <td>24.000000</td>\n",
       "      <td>1.000000</td>\n",
       "      <td>0.000000</td>\n",
       "      <td>1.000000</td>\n",
       "      <td>2.000000</td>\n",
       "    </tr>\n",
       "    <tr>\n",
       "      <th>max</th>\n",
       "      <td>31.000000</td>\n",
       "      <td>5.000000</td>\n",
       "      <td>4.000000</td>\n",
       "      <td>7.000000</td>\n",
       "      <td>13.000000</td>\n",
       "    </tr>\n",
       "  </tbody>\n",
       "</table>\n",
       "</div>"
      ],
      "text/plain": [
       "              Day  Mild injuries  Serious injuries     Victims  \\\n",
       "count  688.000000     688.000000        688.000000  688.000000   \n",
       "mean    15.052326       1.140988          0.029070    1.170058   \n",
       "std      9.383013       0.828288          0.227058    0.850638   \n",
       "min      1.000000       0.000000          0.000000    0.000000   \n",
       "25%      7.000000       1.000000          0.000000    1.000000   \n",
       "50%     14.000000       1.000000          0.000000    1.000000   \n",
       "75%     24.000000       1.000000          0.000000    1.000000   \n",
       "max     31.000000       5.000000          4.000000    7.000000   \n",
       "\n",
       "       Vehicles involved  \n",
       "count         688.000000  \n",
       "mean            1.965116  \n",
       "std             0.890809  \n",
       "min             1.000000  \n",
       "25%             2.000000  \n",
       "50%             2.000000  \n",
       "75%             2.000000  \n",
       "max            13.000000  "
      ]
     },
     "execution_count": 5,
     "metadata": {},
     "output_type": "execute_result"
    }
   ],
   "source": [
    "csv_holidays.describe()"
   ]
  }
 ],
 "metadata": {
  "kernelspec": {
   "display_name": "Python 3",
   "language": "python",
   "name": "python3"
  },
  "language_info": {
   "codemirror_mode": {
    "name": "ipython",
    "version": 3
   },
   "file_extension": ".py",
   "mimetype": "text/x-python",
   "name": "python",
   "nbconvert_exporter": "python",
   "pygments_lexer": "ipython3",
   "version": "3.8.3"
  }
 },
 "nbformat": 4,
 "nbformat_minor": 4
}
