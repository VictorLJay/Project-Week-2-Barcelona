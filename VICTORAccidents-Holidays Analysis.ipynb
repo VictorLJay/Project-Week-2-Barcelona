{
 "cells": [
  {
   "cell_type": "code",
   "execution_count": 2,
   "metadata": {},
   "outputs": [],
   "source": [
    "import pandas as pd\n",
    "import numpy as np\n",
    "import os\n",
    "import ratio_function as f"
   ]
  },
  {
   "cell_type": "code",
   "execution_count": 3,
   "metadata": {},
   "outputs": [],
   "source": [
    "csv_holidays = f.holidays"
   ]
  },
  {
   "cell_type": "code",
   "execution_count": 4,
   "metadata": {},
   "outputs": [],
   "source": [
    "csv_non_holidays = f.non_holidays"
   ]
  },
  {
   "cell_type": "code",
   "execution_count": 16,
   "metadata": {},
   "outputs": [
    {
     "data": {
      "text/plain": [
       "18.594594594594593"
      ]
     },
     "execution_count": 16,
     "metadata": {},
     "output_type": "execute_result"
    }
   ],
   "source": [
    "#Ratio of accidents per day on holidays\n",
    "f.hol_ratio(csv_holidays.shape[0])"
   ]
  },
  {
   "cell_type": "code",
   "execution_count": 22,
   "metadata": {},
   "outputs": [
    {
     "data": {
      "text/plain": [
       "29.423780487804876"
      ]
     },
     "execution_count": 22,
     "metadata": {},
     "output_type": "execute_result"
    }
   ],
   "source": [
    "#Ratio of accidents per day on normal days\n",
    "f.no_hol_ratio(csv_non_holidays.shape[0])"
   ]
  },
  {
   "cell_type": "code",
   "execution_count": 23,
   "metadata": {},
   "outputs": [
    {
     "data": {
      "text/plain": [
       "0.5405405405405406"
      ]
     },
     "execution_count": 23,
     "metadata": {},
     "output_type": "execute_result"
    }
   ],
   "source": [
    "#Serious injuries per day ratio on holidays\n",
    "f.hol_ratio(csv_holidays[\"Serious injuries\"].sum())"
   ]
  },
  {
   "cell_type": "code",
   "execution_count": 24,
   "metadata": {
    "scrolled": true
   },
   "outputs": [
    {
     "data": {
      "text/plain": [
       "0.6737804878048781"
      ]
     },
     "execution_count": 24,
     "metadata": {},
     "output_type": "execute_result"
    }
   ],
   "source": [
    "#Serious injuries per day ratio on normal days\n",
    "f.no_hol_ratio(csv_non_holidays[\"Serious injuries\"].sum())"
   ]
  },
  {
   "cell_type": "code",
   "execution_count": 25,
   "metadata": {},
   "outputs": [
    {
     "data": {
      "text/plain": [
       "21.216216216216218"
      ]
     },
     "execution_count": 25,
     "metadata": {},
     "output_type": "execute_result"
    }
   ],
   "source": [
    "#Mild injuries per day ratio on holidays\n",
    "f.hol_ratio(csv_holidays[\"Mild injuries\"].sum())"
   ]
  },
  {
   "cell_type": "code",
   "execution_count": 26,
   "metadata": {},
   "outputs": [
    {
     "data": {
      "text/plain": [
       "33.98780487804878"
      ]
     },
     "execution_count": 26,
     "metadata": {},
     "output_type": "execute_result"
    }
   ],
   "source": [
    "#Mild injuries per day ratio on normal days\n",
    "f.no_hol_ratio(csv_non_holidays[\"Mild injuries\"].sum())"
   ]
  },
  {
   "cell_type": "code",
   "execution_count": 59,
   "metadata": {},
   "outputs": [
    {
     "data": {
      "text/plain": [
       "21.756756756756758"
      ]
     },
     "execution_count": 59,
     "metadata": {},
     "output_type": "execute_result"
    }
   ],
   "source": [
    "#Victims per day ratio on holidays\n",
    "f.hol_ratio(csv_holidays[\"Serious injuries\"].sum()) + f.hol_ratio(csv_holidays[\"Mild injuries\"].sum())"
   ]
  },
  {
   "cell_type": "code",
   "execution_count": 60,
   "metadata": {},
   "outputs": [
    {
     "data": {
      "text/plain": [
       "34.661585365853654"
      ]
     },
     "execution_count": 60,
     "metadata": {},
     "output_type": "execute_result"
    }
   ],
   "source": [
    "#Victims per day ratio on normal days\n",
    "f.no_hol_ratio(csv_non_holidays[\"Serious injuries\"].sum()) + f.no_hol_ratio(csv_non_holidays[\"Mild injuries\"].sum())"
   ]
  },
  {
   "cell_type": "code",
   "execution_count": 44,
   "metadata": {},
   "outputs": [
    {
     "name": "stdout",
     "output_type": "stream",
     "text": [
      "6.216216216216216\n",
      "11.698170731707316\n"
     ]
    },
    {
     "data": {
      "text/plain": [
       "-5.4819545154911005"
      ]
     },
     "execution_count": 44,
     "metadata": {},
     "output_type": "execute_result"
    }
   ],
   "source": [
    "#Morning accidents. 1st row: Holidays | 2nd row: Normal days | 3rd row: Difference between holidays - normal days\n",
    "mor_hol = f.hol_ratio(len(csv_holidays[csv_holidays[\"Part of the day\"] == \"Morning\"]))\n",
    "print(mor_hol)\n",
    "mor_no_hol = f.no_hol_ratio(len(csv_non_holidays[csv_non_holidays[\"Part of the day\"] == \"Morning\"]))\n",
    "print(mor_no_hol)\n",
    "diff = mor_hol - mor_no_hol\n",
    "diff"
   ]
  },
  {
   "cell_type": "code",
   "execution_count": 45,
   "metadata": {},
   "outputs": [
    {
     "name": "stdout",
     "output_type": "stream",
     "text": [
      "9.054054054054054\n",
      "14.472560975609756\n"
     ]
    },
    {
     "data": {
      "text/plain": [
       "-5.418506921555702"
      ]
     },
     "execution_count": 45,
     "metadata": {},
     "output_type": "execute_result"
    }
   ],
   "source": [
    "#Afternoon accidents. 1st row: Holidays | 2nd row: Normal days | 3rd row: Difference between holidays - normal days\n",
    "aft_hol = f.hol_ratio(len(csv_holidays[csv_holidays[\"Part of the day\"] == \"Afternoon\"]))\n",
    "print(aft_hol)\n",
    "aft_no_hol = f.no_hol_ratio(len(csv_non_holidays[csv_non_holidays[\"Part of the day\"] == \"Afternoon\"]))\n",
    "print(aft_no_hol)\n",
    "diff = aft_hol - aft_no_hol\n",
    "diff"
   ]
  },
  {
   "cell_type": "code",
   "execution_count": 46,
   "metadata": {},
   "outputs": [
    {
     "name": "stdout",
     "output_type": "stream",
     "text": [
      "3.324324324324324\n",
      "3.2530487804878048\n"
     ]
    },
    {
     "data": {
      "text/plain": [
       "0.07127554383651935"
      ]
     },
     "execution_count": 46,
     "metadata": {},
     "output_type": "execute_result"
    }
   ],
   "source": [
    "#Night accidents. 1st row: Holidays | 2nd row: Normal days | 3rd row: Difference between holidays - normal days\n",
    "nig_hol = f.hol_ratio(len(csv_holidays[csv_holidays[\"Part of the day\"] == \"Night\"]))\n",
    "print(nig_hol)\n",
    "nig_no_hol = f.no_hol_ratio(len(csv_non_holidays[csv_non_holidays[\"Part of the day\"] == \"Night\"]))\n",
    "print(nig_no_hol)\n",
    "diff = nig_hol - nig_no_hol\n",
    "diff"
   ]
  },
  {
   "cell_type": "code",
   "execution_count": 56,
   "metadata": {
    "scrolled": true
   },
   "outputs": [
    {
     "data": {
      "text/plain": [
       "Eixample              -3.189519\n",
       "Sants-Montjuïc        -1.591381\n",
       "Sarrià-Sant Gervasi   -1.591381\n",
       "Sant Martí            -1.185893\n",
       "Horta-Guinardó        -0.791529\n",
       "Les Corts             -0.739700\n",
       "Gràcia                -0.686552\n",
       "Sant Andreu           -0.436635\n",
       "Ciutat Vella          -0.385630\n",
       "Nou Barris            -0.268952\n",
       "Unknown                0.037986\n",
       "Name: District Name, dtype: float64"
      ]
     },
     "execution_count": 56,
     "metadata": {},
     "output_type": "execute_result"
    }
   ],
   "source": [
    "#Ratio of Accidents per District (Holiday - Normal Day)\n",
    "(f.hol_ratio(csv_holidays[\"District Name\"].value_counts()) - f.no_hol_ratio(csv_non_holidays[\"District Name\"].value_counts())).sort_values(ascending=True)"
   ]
  },
  {
   "cell_type": "code",
   "execution_count": null,
   "metadata": {},
   "outputs": [],
   "source": [
    "#Normal days accidents weekdays (Monday to Thursday, both included)\n",
    "christmas = accidents[(accidents[\"Month\"] == \"December\") & (accidents[\"Day\"].isin([24, 25]))]"
   ]
  },
  {
   "cell_type": "code",
   "execution_count": null,
   "metadata": {},
   "outputs": [],
   "source": [
    "#Normal days accidents weekend (Friday to Sunday, both included)\n"
   ]
  },
  {
   "cell_type": "code",
   "execution_count": null,
   "metadata": {},
   "outputs": [],
   "source": []
  },
  {
   "cell_type": "code",
   "execution_count": null,
   "metadata": {},
   "outputs": [],
   "source": []
  },
  {
   "cell_type": "code",
   "execution_count": null,
   "metadata": {},
   "outputs": [],
   "source": []
  },
  {
   "cell_type": "code",
   "execution_count": 5,
   "metadata": {
    "scrolled": false
   },
   "outputs": [
    {
     "data": {
      "text/html": [
       "<div>\n",
       "<style scoped>\n",
       "    .dataframe tbody tr th:only-of-type {\n",
       "        vertical-align: middle;\n",
       "    }\n",
       "\n",
       "    .dataframe tbody tr th {\n",
       "        vertical-align: top;\n",
       "    }\n",
       "\n",
       "    .dataframe thead th {\n",
       "        text-align: right;\n",
       "    }\n",
       "</style>\n",
       "<table border=\"1\" class=\"dataframe\">\n",
       "  <thead>\n",
       "    <tr style=\"text-align: right;\">\n",
       "      <th></th>\n",
       "      <th>Day</th>\n",
       "      <th>Mild injuries</th>\n",
       "      <th>Serious injuries</th>\n",
       "      <th>Victims</th>\n",
       "      <th>Vehicles involved</th>\n",
       "    </tr>\n",
       "  </thead>\n",
       "  <tbody>\n",
       "    <tr>\n",
       "      <th>count</th>\n",
       "      <td>688.000000</td>\n",
       "      <td>688.000000</td>\n",
       "      <td>688.000000</td>\n",
       "      <td>688.000000</td>\n",
       "      <td>688.000000</td>\n",
       "    </tr>\n",
       "    <tr>\n",
       "      <th>mean</th>\n",
       "      <td>15.052326</td>\n",
       "      <td>1.140988</td>\n",
       "      <td>0.029070</td>\n",
       "      <td>1.170058</td>\n",
       "      <td>1.965116</td>\n",
       "    </tr>\n",
       "    <tr>\n",
       "      <th>std</th>\n",
       "      <td>9.383013</td>\n",
       "      <td>0.828288</td>\n",
       "      <td>0.227058</td>\n",
       "      <td>0.850638</td>\n",
       "      <td>0.890809</td>\n",
       "    </tr>\n",
       "    <tr>\n",
       "      <th>min</th>\n",
       "      <td>1.000000</td>\n",
       "      <td>0.000000</td>\n",
       "      <td>0.000000</td>\n",
       "      <td>0.000000</td>\n",
       "      <td>1.000000</td>\n",
       "    </tr>\n",
       "    <tr>\n",
       "      <th>25%</th>\n",
       "      <td>7.000000</td>\n",
       "      <td>1.000000</td>\n",
       "      <td>0.000000</td>\n",
       "      <td>1.000000</td>\n",
       "      <td>2.000000</td>\n",
       "    </tr>\n",
       "    <tr>\n",
       "      <th>50%</th>\n",
       "      <td>14.000000</td>\n",
       "      <td>1.000000</td>\n",
       "      <td>0.000000</td>\n",
       "      <td>1.000000</td>\n",
       "      <td>2.000000</td>\n",
       "    </tr>\n",
       "    <tr>\n",
       "      <th>75%</th>\n",
       "      <td>24.000000</td>\n",
       "      <td>1.000000</td>\n",
       "      <td>0.000000</td>\n",
       "      <td>1.000000</td>\n",
       "      <td>2.000000</td>\n",
       "    </tr>\n",
       "    <tr>\n",
       "      <th>max</th>\n",
       "      <td>31.000000</td>\n",
       "      <td>5.000000</td>\n",
       "      <td>4.000000</td>\n",
       "      <td>7.000000</td>\n",
       "      <td>13.000000</td>\n",
       "    </tr>\n",
       "  </tbody>\n",
       "</table>\n",
       "</div>"
      ],
      "text/plain": [
       "              Day  Mild injuries  Serious injuries     Victims  \\\n",
       "count  688.000000     688.000000        688.000000  688.000000   \n",
       "mean    15.052326       1.140988          0.029070    1.170058   \n",
       "std      9.383013       0.828288          0.227058    0.850638   \n",
       "min      1.000000       0.000000          0.000000    0.000000   \n",
       "25%      7.000000       1.000000          0.000000    1.000000   \n",
       "50%     14.000000       1.000000          0.000000    1.000000   \n",
       "75%     24.000000       1.000000          0.000000    1.000000   \n",
       "max     31.000000       5.000000          4.000000    7.000000   \n",
       "\n",
       "       Vehicles involved  \n",
       "count         688.000000  \n",
       "mean            1.965116  \n",
       "std             0.890809  \n",
       "min             1.000000  \n",
       "25%             2.000000  \n",
       "50%             2.000000  \n",
       "75%             2.000000  \n",
       "max            13.000000  "
      ]
     },
     "execution_count": 5,
     "metadata": {},
     "output_type": "execute_result"
    }
   ],
   "source": [
    "csv_holidays.describe()"
   ]
  },
  {
   "cell_type": "markdown",
   "metadata": {},
   "source": [
    "More Vehicles involved than without holidays.\n",
    "\n",
    "Slightly less victims\n",
    "\n",
    "Slightly more serious injuries\n",
    "\n",
    "Slightly less mild injuries\n",
    "\n",
    "Compare the ratio of accidents. Not the same amount of days, so the ratio per accident sems higher in holidays.\n",
    "\n",
    "Find moment of when the accidents occur VS on normal days (Night, Afternoon, etc.).\n",
    "\n",
    "Find District and see the difference of the trend\n",
    "\n",
    "Find distribution of Vehicles, Mild/Serious Injuries\n",
    "\n",
    "Find weekdays of accidents and compare it."
   ]
  }
 ],
 "metadata": {
  "kernelspec": {
   "display_name": "Python 3",
   "language": "python",
   "name": "python3"
  },
  "language_info": {
   "codemirror_mode": {
    "name": "ipython",
    "version": 3
   },
   "file_extension": ".py",
   "mimetype": "text/x-python",
   "name": "python",
   "nbconvert_exporter": "python",
   "pygments_lexer": "ipython3",
   "version": "3.8.6"
  }
 },
 "nbformat": 4,
 "nbformat_minor": 4
}
